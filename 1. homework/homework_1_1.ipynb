{
 "cells": [
  {
   "cell_type": "markdown",
   "metadata": {},
   "source": [
    "Задание 1\n",
    "\n",
    " \n",
    "\n",
    "Создайте класс Animal с атрибутами name и sound, и методом makesound(), который будет выводить на экран звук животного. Создайте объекты Cat и Dog, которые будут наследоваться от класса Animal и иметь дополнительный атрибут color. Переопределите метод makesound() для каждого подкласса, чтобы он выводил на экран соответствующий звук."
   ]
  },
  {
   "cell_type": "code",
   "execution_count": 1,
   "metadata": {},
   "outputs": [],
   "source": [
    "class Animal:\n",
    "    def __init__(self, name, sound):\n",
    "        self.name = name\n",
    "        self.sound = sound\n",
    "\n",
    "    def makeseound(self):\n",
    "        print(f\"{self.name} говорит: {self.sound}\")\n",
    "    \n",
    "class Cat(Animal):\n",
    "    def __init__(self, name, sound, color):\n",
    "        super().__init__(name, sound)\n",
    "        self.color = color \n",
    "\n",
    "    def makesound(self):\n",
    "        print(f\"{self.color} кот {self.name} говорит: {self.sound}\")\n",
    "\n",
    "class Dog(Animal):\n",
    "    def __init__(self, name, sound, color):\n",
    "        super().__init__(name, sound)\n",
    "        self.color = color\n",
    "\n",
    "    def makesound(self):\n",
    "        print(f\"{self.color} собака {self.name} говорит: {self.sound}\")"
   ]
  },
  {
   "cell_type": "code",
   "execution_count": 2,
   "metadata": {},
   "outputs": [],
   "source": [
    "cat = Cat(\"Рыжик\", \"Мяу\", \"Рыжий\")\n",
    "dog = Dog(\"Бобик\", \"Гав\", \"Черная\")"
   ]
  },
  {
   "cell_type": "code",
   "execution_count": 3,
   "metadata": {},
   "outputs": [
    {
     "name": "stdout",
     "output_type": "stream",
     "text": [
      "Рыжий кот Рыжик говорит: Мяу\n",
      "Черная собака Бобик говорит: Гав\n"
     ]
    }
   ],
   "source": [
    "cat.makesound()\n",
    "dog.makesound()"
   ]
  }
 ],
 "metadata": {
  "kernelspec": {
   "display_name": "base",
   "language": "python",
   "name": "python3"
  },
  "language_info": {
   "codemirror_mode": {
    "name": "ipython",
    "version": 3
   },
   "file_extension": ".py",
   "mimetype": "text/x-python",
   "name": "python",
   "nbconvert_exporter": "python",
   "pygments_lexer": "ipython3",
   "version": "3.11.5"
  }
 },
 "nbformat": 4,
 "nbformat_minor": 2
}
