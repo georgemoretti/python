{
 "cells": [
  {
   "cell_type": "markdown",
   "metadata": {},
   "source": [
    "Задание 2\n",
    "\n",
    " \n",
    "\n",
    "Напишите функцию, которая принимает на вход строку и выводит количество уникальных слов в ней, игнорируя знаки препинания и пробелы. Используйте модуль collections для этой задачи."
   ]
  },
  {
   "cell_type": "code",
   "execution_count": 3,
   "metadata": {},
   "outputs": [],
   "source": [
    "from collections import Counter\n",
    "import re\n",
    "\n",
    "def count_unique_words(text):\n",
    "    cleaned_text = re.sub(r'[^\\w\\s]', '', text).lower()\n",
    "    words = cleaned_text.split()\n",
    "    word_counts = Counter(words)\n",
    "    return len(word_counts)"
   ]
  },
  {
   "cell_type": "code",
   "execution_count": 4,
   "metadata": {},
   "outputs": [
    {
     "name": "stdout",
     "output_type": "stream",
     "text": [
      "Количество уникальных слов: 4\n"
     ]
    }
   ],
   "source": [
    "\n",
    "text = \"Привет, мир! Мир, привет... Как дела?\"\n",
    "unique_word_count = count_unique_words(text)\n",
    "print(f\"Количество уникальных слов: {unique_word_count}\")"
   ]
  }
 ],
 "metadata": {
  "kernelspec": {
   "display_name": "base",
   "language": "python",
   "name": "python3"
  },
  "language_info": {
   "codemirror_mode": {
    "name": "ipython",
    "version": 3
   },
   "file_extension": ".py",
   "mimetype": "text/x-python",
   "name": "python",
   "nbconvert_exporter": "python",
   "pygments_lexer": "ipython3",
   "version": "3.11.5"
  }
 },
 "nbformat": 4,
 "nbformat_minor": 2
}
