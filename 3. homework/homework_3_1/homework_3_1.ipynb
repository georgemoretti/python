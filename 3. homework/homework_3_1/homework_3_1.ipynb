{
 "cells": [
  {
   "cell_type": "markdown",
   "metadata": {},
   "source": [
    "Задание 1\n",
    "\n",
    " \n",
    "\n",
    "Создайте пакет, где будет находиться модуль, который содержит класс с методом, вычисляющий сумму всех чисел в передаваемом списке. В качестве решения сдать сам пакет и обращение к нему."
   ]
  },
  {
   "cell_type": "code",
   "execution_count": null,
   "metadata": {},
   "outputs": [],
   "source": [
    "from mypackage import SumCalculator\n",
    "\n",
    "numbers = [1, 2, 3, 4, 5]\n",
    "result = SumCalculator.calculate_sum(numbers)\n",
    "print(f\"Сумма чисел: {result}\")"
   ]
  }
 ],
 "metadata": {
  "kernelspec": {
   "display_name": "base",
   "language": "python",
   "name": "python3"
  },
  "language_info": {
   "name": "python",
   "version": "3.11.5"
  }
 },
 "nbformat": 4,
 "nbformat_minor": 2
}
