{
 "cells": [
  {
   "cell_type": "markdown",
   "metadata": {},
   "source": [
    "Задание 1\n",
    "\n",
    " \n",
    "\n",
    "Ознакомьтесь с модулем datetime в Python. Создайте программу, которая будет использовать этот модуль для выполнения следующих задач:\n",
    "\n",
    "Отображение текущей даты и времени.\n",
    "Вычисление разницы между двумя датами.\n",
    "Преобразование строки в объект даты и времени.\n",
    "Убедитесь, что ваша программа работает корректно и использует функции из модуля datetime."
   ]
  },
  {
   "cell_type": "code",
   "execution_count": 1,
   "metadata": {},
   "outputs": [],
   "source": [
    "import datetime\n",
    "\n",
    "\n",
    "def display_current_datetime():\n",
    "    \"\"\"Отображает текущую дату и время.\"\"\"\n",
    "    current_datetime = datetime.datetime.now()\n",
    "    print(f\"Текущая дата и время: {current_datetime.strftime('%Y-%m-%d %H:%M:%S')}\")\n",
    "\n",
    "\n",
    "def calculate_date_difference(date1: datetime.datetime, date2: datetime.datetime):\n",
    "    \"\"\"Вычисляет разницу между двумя датами.\"\"\"\n",
    "    difference = date2 - date1\n",
    "    print(f\"Разница между датами: {difference.days} дней, {difference.seconds // 3600} часов\")\n",
    "\n",
    "\n",
    "def convert_string_to_datetime(date_string: str, format_string: str) -> datetime.datetime:\n",
    "    \"\"\"Преобразует строку в объект даты и времени.\"\"\"\n",
    "    try:\n",
    "        date_object = datetime.datetime.strptime(date_string, format_string)\n",
    "        print(f\"Преобразованная дата и время: {date_object}\")\n",
    "        return date_object\n",
    "    except ValueError:\n",
    "        print(\"Ошибка: строка не соответствует формату.\")\n",
    "        return None"
   ]
  },
  {
   "cell_type": "code",
   "execution_count": 2,
   "metadata": {},
   "outputs": [
    {
     "name": "stdout",
     "output_type": "stream",
     "text": [
      "Текущая дата и время: 2024-11-04 20:19:47\n"
     ]
    }
   ],
   "source": [
    "# 1. Отображение текущей даты и времени\n",
    "display_current_datetime()"
   ]
  },
  {
   "cell_type": "code",
   "execution_count": 3,
   "metadata": {},
   "outputs": [
    {
     "name": "stdout",
     "output_type": "stream",
     "text": [
      "Разница между датами: 30 дней, 0 часов\n"
     ]
    }
   ],
   "source": [
    "\n",
    "# 2. Вычисление разницы между двумя датами\n",
    "date1 = datetime.datetime(2024, 10, 1)\n",
    "date2 = datetime.datetime(2024, 10, 31)\n",
    "calculate_date_difference(date1, date2)"
   ]
  },
  {
   "cell_type": "code",
   "execution_count": 4,
   "metadata": {},
   "outputs": [
    {
     "name": "stdout",
     "output_type": "stream",
     "text": [
      "Преобразованная дата и время: 2024-10-31 17:28:00\n"
     ]
    },
    {
     "data": {
      "text/plain": [
       "datetime.datetime(2024, 10, 31, 17, 28)"
      ]
     },
     "execution_count": 4,
     "metadata": {},
     "output_type": "execute_result"
    }
   ],
   "source": [
    "# 3. Преобразование строки в объект даты и времени\n",
    "date_string = \"2024-10-31 17:28:00\"\n",
    "format_string = \"%Y-%m-%d %H:%M:%S\"\n",
    "convert_string_to_datetime(date_string, format_string)"
   ]
  }
 ],
 "metadata": {
  "kernelspec": {
   "display_name": "base",
   "language": "python",
   "name": "python3"
  },
  "language_info": {
   "codemirror_mode": {
    "name": "ipython",
    "version": 3
   },
   "file_extension": ".py",
   "mimetype": "text/x-python",
   "name": "python",
   "nbconvert_exporter": "python",
   "pygments_lexer": "ipython3",
   "version": "3.11.5"
  }
 },
 "nbformat": 4,
 "nbformat_minor": 2
}
