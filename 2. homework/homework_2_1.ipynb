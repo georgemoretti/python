{
 "cells": [
  {
   "cell_type": "markdown",
   "metadata": {},
   "source": [
    "Задание 1\n",
    "\n",
    " \n",
    "\n",
    "Создайте функцию, которая будет открывать файл, считывать его содержимое и выводить на экран только те строки, которые содержат числовые значения. Если файл не найден, должно возникнуть исключение FileNotFoundError, если внутри файла попалось значение отличное от числа, должно возникнуть исключение TypeError. Файл должен иметь текстовый формат.\n",
    "\n",
    "Для считывания данных из файла можно воспользоваться следующим программным кодом:\n",
    "\n",
    "with open('data.txt', 'r', encoding='utf-8') as file:\n",
    "    data = file.readlines()\n",
    "print(data)  # обратите внимание на \\n"
   ]
  },
  {
   "cell_type": "code",
   "execution_count": 1,
   "metadata": {},
   "outputs": [],
   "source": [
    "def read_file_with_numbers(filename):\n",
    "    try:\n",
    "        with open(filename, 'r', encoding='utf-8') as file:\n",
    "            data = file.readlines()\n",
    "        \n",
    "        # Перебираем строки и выводим только те, что содержат числа\n",
    "        for line in data:\n",
    "            line = line.strip()  # Убираем лишние пробелы и символы новой строки\n",
    "            try:\n",
    "                # Проверяем, является ли строка числом\n",
    "                num = float(line)  # Преобразуем строку в число\n",
    "                print(line)\n",
    "            except ValueError:\n",
    "                raise TypeError(f\"Строка '{line}' не является числовым значением.\")\n",
    "\n",
    "    except FileNotFoundError:\n",
    "        print(f\"Файл '{filename}' не найден.\")"
   ]
  },
  {
   "cell_type": "code",
   "execution_count": 2,
   "metadata": {},
   "outputs": [
    {
     "name": "stdout",
     "output_type": "stream",
     "text": [
      "111\n"
     ]
    },
    {
     "ename": "TypeError",
     "evalue": "Строка 'привет' не является числовым значением.",
     "output_type": "error",
     "traceback": [
      "\u001b[1;31m---------------------------------------------------------------------------\u001b[0m",
      "\u001b[1;31mValueError\u001b[0m                                Traceback (most recent call last)",
      "Cell \u001b[1;32mIn[1], line 11\u001b[0m, in \u001b[0;36mread_file_with_numbers\u001b[1;34m(filename)\u001b[0m\n\u001b[0;32m      9\u001b[0m \u001b[38;5;28;01mtry\u001b[39;00m:\n\u001b[0;32m     10\u001b[0m     \u001b[38;5;66;03m# Проверяем, является ли строка числом\u001b[39;00m\n\u001b[1;32m---> 11\u001b[0m     num \u001b[38;5;241m=\u001b[39m \u001b[38;5;28mfloat\u001b[39m(line)  \u001b[38;5;66;03m# Преобразуем строку в число\u001b[39;00m\n\u001b[0;32m     12\u001b[0m     \u001b[38;5;28mprint\u001b[39m(line)\n",
      "\u001b[1;31mValueError\u001b[0m: could not convert string to float: 'привет'",
      "\nDuring handling of the above exception, another exception occurred:\n",
      "\u001b[1;31mTypeError\u001b[0m                                 Traceback (most recent call last)",
      "Cell \u001b[1;32mIn[2], line 1\u001b[0m\n\u001b[1;32m----> 1\u001b[0m read_file_with_numbers(\u001b[38;5;124m\"\u001b[39m\u001b[38;5;124mtest.txt\u001b[39m\u001b[38;5;124m\"\u001b[39m)\n",
      "Cell \u001b[1;32mIn[1], line 14\u001b[0m, in \u001b[0;36mread_file_with_numbers\u001b[1;34m(filename)\u001b[0m\n\u001b[0;32m     12\u001b[0m             \u001b[38;5;28mprint\u001b[39m(line)\n\u001b[0;32m     13\u001b[0m         \u001b[38;5;28;01mexcept\u001b[39;00m \u001b[38;5;167;01mValueError\u001b[39;00m:\n\u001b[1;32m---> 14\u001b[0m             \u001b[38;5;28;01mraise\u001b[39;00m \u001b[38;5;167;01mTypeError\u001b[39;00m(\u001b[38;5;124mf\u001b[39m\u001b[38;5;124m\"\u001b[39m\u001b[38;5;124mСтрока \u001b[39m\u001b[38;5;124m'\u001b[39m\u001b[38;5;132;01m{\u001b[39;00mline\u001b[38;5;132;01m}\u001b[39;00m\u001b[38;5;124m'\u001b[39m\u001b[38;5;124m не является числовым значением.\u001b[39m\u001b[38;5;124m\"\u001b[39m)\n\u001b[0;32m     16\u001b[0m \u001b[38;5;28;01mexcept\u001b[39;00m \u001b[38;5;167;01mFileNotFoundError\u001b[39;00m:\n\u001b[0;32m     17\u001b[0m     \u001b[38;5;28mprint\u001b[39m(\u001b[38;5;124mf\u001b[39m\u001b[38;5;124m\"\u001b[39m\u001b[38;5;124mФайл \u001b[39m\u001b[38;5;124m'\u001b[39m\u001b[38;5;132;01m{\u001b[39;00mfilename\u001b[38;5;132;01m}\u001b[39;00m\u001b[38;5;124m'\u001b[39m\u001b[38;5;124m не найден.\u001b[39m\u001b[38;5;124m\"\u001b[39m)\n",
      "\u001b[1;31mTypeError\u001b[0m: Строка 'привет' не является числовым значением."
     ]
    }
   ],
   "source": [
    "read_file_with_numbers(\"test.txt\")"
   ]
  }
 ],
 "metadata": {
  "kernelspec": {
   "display_name": "base",
   "language": "python",
   "name": "python3"
  },
  "language_info": {
   "codemirror_mode": {
    "name": "ipython",
    "version": 3
   },
   "file_extension": ".py",
   "mimetype": "text/x-python",
   "name": "python",
   "nbconvert_exporter": "python",
   "pygments_lexer": "ipython3",
   "version": "3.11.5"
  }
 },
 "nbformat": 4,
 "nbformat_minor": 2
}
