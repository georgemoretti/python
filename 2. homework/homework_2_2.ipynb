{
 "cells": [
  {
   "cell_type": "code",
   "execution_count": 3,
   "metadata": {},
   "outputs": [
    {
     "name": "stdout",
     "output_type": "stream",
     "text": [
      "Буфер переполнен. Очистка буфера.\n",
      "Буфер пуст. Нет данных для получения.\n",
      "None\n",
      "[10]\n"
     ]
    }
   ],
   "source": [
    "class DataBuffer:\n",
    "    def __init__(self):\n",
    "        self.buffer = []\n",
    "\n",
    "    def add_data(self, data):\n",
    "        \"\"\"Добавляет данные в буфер. Если буфер переполнен (>=5 элементов), выводит сообщение и очищает его.\"\"\"\n",
    "        self.buffer.append(data)\n",
    "        if len(self.buffer) >= 5:\n",
    "            print(\"Буфер переполнен. Очистка буфера.\")\n",
    "            self.buffer.clear()\n",
    "\n",
    "    def get_data(self):\n",
    "        \"\"\"Возвращает данные из буфера. Если буфер пуст, выводит сообщение об отсутствии данных.\"\"\"\n",
    "        if not self.buffer:\n",
    "            print(\"Буфер пуст. Нет данных для получения.\")\n",
    "            return None\n",
    "        return self.buffer\n",
    "\n",
    "buffer = DataBuffer()\n",
    "\n",
    "buffer.add_data(1)\n",
    "buffer.add_data(2)\n",
    "buffer.add_data(3)\n",
    "buffer.add_data(4)\n",
    "buffer.add_data(5)  # Это добавление вызовет переполнение и очистку буфера\n",
    "\n",
    "print(buffer.get_data())  # Буфер пуст, так как он был очищен\n",
    "\n",
    "buffer.add_data(10)\n",
    "print(buffer.get_data())"
   ]
  }
 ],
 "metadata": {
  "kernelspec": {
   "display_name": "base",
   "language": "python",
   "name": "python3"
  },
  "language_info": {
   "codemirror_mode": {
    "name": "ipython",
    "version": 3
   },
   "file_extension": ".py",
   "mimetype": "text/x-python",
   "name": "python",
   "nbconvert_exporter": "python",
   "pygments_lexer": "ipython3",
   "version": "3.11.5"
  }
 },
 "nbformat": 4,
 "nbformat_minor": 2
}
